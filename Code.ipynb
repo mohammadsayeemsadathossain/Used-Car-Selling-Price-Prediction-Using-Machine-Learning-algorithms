{
  "nbformat": 4,
  "nbformat_minor": 0,
  "metadata": {
    "colab": {
      "name": "422_project.ipynb",
      "provenance": [],
      "collapsed_sections": []
    },
    "kernelspec": {
      "name": "python3",
      "display_name": "Python 3"
    },
    "language_info": {
      "name": "python"
    }
  },
  "cells": [
    {
      "cell_type": "markdown",
      "source": [
        "***STEP-1: DATA COLLETION AND DATA ANALYSIS*** "
      ],
      "metadata": {
        "id": "hC__dEKPoRD5"
      }
    },
    {
      "cell_type": "code",
      "execution_count": 1,
      "metadata": {
        "id": "rgGnGpV-1-XK"
      },
      "outputs": [],
      "source": [
        "#importing necessary libraries\n",
        "import pandas as pd\n",
        "import numpy as np\n",
        "import matplotlib.pyplot as plt\n",
        "import seaborn as sns"
      ]
    },
    {
      "cell_type": "code",
      "source": [
        "car = pd.read_csv('/content/sample_data/car data.csv')\n",
        "print(car)"
      ],
      "metadata": {
        "colab": {
          "base_uri": "https://localhost:8080/"
        },
        "id": "S-vzk7S32qrl",
        "outputId": "df74fdee-7dac-4d27-efcf-d337d9898ee2"
      },
      "execution_count": 2,
      "outputs": [
        {
          "output_type": "stream",
          "name": "stdout",
          "text": [
            "    Car_Name  Year  Selling_Price  Present_Price  Kms_Driven Fuel_Type  \\\n",
            "0       ritz  2014           3.35           5.59       27000    Petrol   \n",
            "1        sx4  2013           4.75           9.54       43000    Diesel   \n",
            "2       ciaz  2017           7.25           9.85        6900    Petrol   \n",
            "3    wagon r  2011           2.85           4.15        5200    Petrol   \n",
            "4      swift  2014           4.60           6.87       42450    Diesel   \n",
            "..       ...   ...            ...            ...         ...       ...   \n",
            "296     city  2016           9.50          11.60       33988    Diesel   \n",
            "297     brio  2015           4.00           5.90       60000    Petrol   \n",
            "298     city  2009           3.35          11.00       87934    Petrol   \n",
            "299     city  2017          11.50          12.50        9000    Diesel   \n",
            "300     brio  2016           5.30           5.90        5464    Petrol   \n",
            "\n",
            "    Seller_Type Transmission  Owner  \n",
            "0        Dealer       Manual      0  \n",
            "1        Dealer       Manual      0  \n",
            "2        Dealer       Manual      0  \n",
            "3        Dealer       Manual      0  \n",
            "4        Dealer       Manual      0  \n",
            "..          ...          ...    ...  \n",
            "296      Dealer       Manual      0  \n",
            "297      Dealer       Manual      0  \n",
            "298      Dealer       Manual      0  \n",
            "299      Dealer       Manual      0  \n",
            "300      Dealer       Manual      0  \n",
            "\n",
            "[301 rows x 9 columns]\n"
          ]
        }
      ]
    },
    {
      "cell_type": "code",
      "source": [
        "car.shape\n"
      ],
      "metadata": {
        "id": "mJAa4GsI783k",
        "colab": {
          "base_uri": "https://localhost:8080/"
        },
        "outputId": "3c400593-3d35-430c-8188-a4719c263c4f"
      },
      "execution_count": 3,
      "outputs": [
        {
          "output_type": "execute_result",
          "data": {
            "text/plain": [
              "(301, 9)"
            ]
          },
          "metadata": {},
          "execution_count": 3
        }
      ]
    },
    {
      "cell_type": "markdown",
      "source": [
        "***a. Getting to know the features of our dataset***"
      ],
      "metadata": {
        "id": "nAdSy8bCOzIA"
      }
    },
    {
      "cell_type": "code",
      "source": [
        "print(\"Keys of car data:\\n\", car.keys())"
      ],
      "metadata": {
        "colab": {
          "base_uri": "https://localhost:8080/"
        },
        "id": "V-bZ-Uc8MCGy",
        "outputId": "2b31df37-d860-4f58-cca2-0c8c3f4c77d3"
      },
      "execution_count": 4,
      "outputs": [
        {
          "output_type": "stream",
          "name": "stdout",
          "text": [
            "Keys of car data:\n",
            " Index(['Car_Name', 'Year', 'Selling_Price', 'Present_Price', 'Kms_Driven',\n",
            "       'Fuel_Type', 'Seller_Type', 'Transmission', 'Owner'],\n",
            "      dtype='object')\n"
          ]
        }
      ]
    },
    {
      "cell_type": "markdown",
      "source": [
        "***b. Finding the categories of our categorical features and plotting the counts***"
      ],
      "metadata": {
        "id": "6rxf8ZoPP95p"
      }
    },
    {
      "cell_type": "code",
      "source": [
        "car.info()"
      ],
      "metadata": {
        "colab": {
          "base_uri": "https://localhost:8080/"
        },
        "id": "-kvUlPUItMFn",
        "outputId": "8a1d0c70-c636-4a09-842d-cf5a069ceb41"
      },
      "execution_count": 5,
      "outputs": [
        {
          "output_type": "stream",
          "name": "stdout",
          "text": [
            "<class 'pandas.core.frame.DataFrame'>\n",
            "RangeIndex: 301 entries, 0 to 300\n",
            "Data columns (total 9 columns):\n",
            " #   Column         Non-Null Count  Dtype  \n",
            "---  ------         --------------  -----  \n",
            " 0   Car_Name       301 non-null    object \n",
            " 1   Year           301 non-null    int64  \n",
            " 2   Selling_Price  296 non-null    float64\n",
            " 3   Present_Price  301 non-null    float64\n",
            " 4   Kms_Driven     301 non-null    int64  \n",
            " 5   Fuel_Type      301 non-null    object \n",
            " 6   Seller_Type    301 non-null    object \n",
            " 7   Transmission   301 non-null    object \n",
            " 8   Owner          301 non-null    int64  \n",
            "dtypes: float64(2), int64(3), object(4)\n",
            "memory usage: 21.3+ KB\n"
          ]
        }
      ]
    },
    {
      "cell_type": "code",
      "source": [
        "print(\"Fuel Types:\\n\", car['Fuel_Type'].value_counts())"
      ],
      "metadata": {
        "colab": {
          "base_uri": "https://localhost:8080/"
        },
        "id": "uC14Kj7ZPoLK",
        "outputId": "8eef1264-529c-40e6-809e-f3ec89267d15"
      },
      "execution_count": 6,
      "outputs": [
        {
          "output_type": "stream",
          "name": "stdout",
          "text": [
            "Fuel Types:\n",
            " Petrol    239\n",
            "Diesel     60\n",
            "CNG         2\n",
            "Name: Fuel_Type, dtype: int64\n"
          ]
        }
      ]
    },
    {
      "cell_type": "code",
      "source": [
        "ax = sns.countplot(x=\"Fuel_Type\", data=car)"
      ],
      "metadata": {
        "colab": {
          "base_uri": "https://localhost:8080/",
          "height": 283
        },
        "id": "45vdX8_4WddY",
        "outputId": "98da720b-bd0e-43dc-dcf4-32ff0cc4d234"
      },
      "execution_count": 7,
      "outputs": [
        {
          "output_type": "display_data",
          "data": {
            "text/plain": [
              "<Figure size 432x288 with 1 Axes>"
            ],
            "image/png": "[encoded data removed]"
          },
          "metadata": {
            "needs_background": "light"
          }
        }
      ]
    },
    {
      "cell_type": "code",
      "source": [
        "print(\"Seller Types:\\n\", car['Seller_Type'].value_counts())"
      ],
      "metadata": {
        "colab": {
          "base_uri": "https://localhost:8080/"
        },
        "id": "JoeSLlAZQKRW",
        "outputId": "e00a32a8-e096-4882-943f-f0e148e0c37d"
      },
      "execution_count": 8,
      "outputs": [
        {
          "output_type": "stream",
          "name": "stdout",
          "text": [
            "Seller Types:\n",
            " Dealer        195\n",
            "Individual    106\n",
            "Name: Seller_Type, dtype: int64\n"
          ]
        }
      ]
    },
    {
      "cell_type": "code",
      "source": [
        "ax = sns.countplot(x=\"Seller_Type\", data=car)"
      ],
      "metadata": {
        "colab": {
          "base_uri": "https://localhost:8080/",
          "height": 280
        },
        "id": "1yfu9hJPYxle",
        "outputId": "ce6dff03-7eaa-4152-ac99-bcc1fda41a75"
      },
      "execution_count": 9,
      "outputs": [
        {
          "output_type": "display_data",
          "data": {
            "text/plain": [
              "<Figure size 432x288 with 1 Axes>"
            ],
            "image/png": "[encoded data removed]"
          },
          "metadata": {
            "needs_background": "light"
          }
        }
      ]
    },
    {
      "cell_type": "code",
      "source": [
        "print(\"Transmission Types:\\n\", car['Transmission'].value_counts())"
      ],
      "metadata": {
        "id": "nc3mSqx7QRpV",
        "colab": {
          "base_uri": "https://localhost:8080/"
        },
        "outputId": "9ebdc869-1372-40c9-9c83-14d7ac310d75"
      },
      "execution_count": 10,
      "outputs": [
        {
          "output_type": "stream",
          "name": "stdout",
          "text": [
            "Transmission Types:\n",
            " Manual       261\n",
            "Automatic     40\n",
            "Name: Transmission, dtype: int64\n"
          ]
        }
      ]
    },
    {
      "cell_type": "code",
      "source": [
        "ax = sns.countplot(x=\"Transmission\", data=car)"
      ],
      "metadata": {
        "colab": {
          "base_uri": "https://localhost:8080/",
          "height": 279
        },
        "id": "xJ3CufVrY_cg",
        "outputId": "87df699a-e9e8-48f4-ca11-c14f636d37e0"
      },
      "execution_count": 11,
      "outputs": [
        {
          "output_type": "display_data",
          "data": {
            "text/plain": [
              "<Figure size 432x288 with 1 Axes>"
            ],
            "image/png": "[encoded data removed]"
          },
          "metadata": {
            "needs_background": "light"
          }
        }
      ]
    },
    {
      "cell_type": "markdown",
      "source": [
        "***c. Checking the features and data types of those featurs in our dataset***"
      ],
      "metadata": {
        "id": "vKpA_2CgQQYA"
      }
    },
    {
      "cell_type": "code",
      "source": [
        "car.info()"
      ],
      "metadata": {
        "colab": {
          "base_uri": "https://localhost:8080/"
        },
        "id": "Cx6F7lFX8MKe",
        "outputId": "00b47b51-41c4-4f86-f9a4-e356de4d99f5"
      },
      "execution_count": 12,
      "outputs": [
        {
          "output_type": "stream",
          "name": "stdout",
          "text": [
            "<class 'pandas.core.frame.DataFrame'>\n",
            "RangeIndex: 301 entries, 0 to 300\n",
            "Data columns (total 9 columns):\n",
            " #   Column         Non-Null Count  Dtype  \n",
            "---  ------         --------------  -----  \n",
            " 0   Car_Name       301 non-null    object \n",
            " 1   Year           301 non-null    int64  \n",
            " 2   Selling_Price  296 non-null    float64\n",
            " 3   Present_Price  301 non-null    float64\n",
            " 4   Kms_Driven     301 non-null    int64  \n",
            " 5   Fuel_Type      301 non-null    object \n",
            " 6   Seller_Type    301 non-null    object \n",
            " 7   Transmission   301 non-null    object \n",
            " 8   Owner          301 non-null    int64  \n",
            "dtypes: float64(2), int64(3), object(4)\n",
            "memory usage: 21.3+ KB\n"
          ]
        }
      ]
    },
    {
      "cell_type": "markdown",
      "source": [
        "***STEP-2: DATA PREPROCESSING*** "
      ],
      "metadata": {
        "id": "e72_9RL-Qnw5"
      }
    },
    {
      "cell_type": "markdown",
      "source": [
        "***a. Imputing Missing values***"
      ],
      "metadata": {
        "id": "G9faz9ofowDS"
      }
    },
    {
      "cell_type": "code",
      "source": [
        "#Check for missing values\n",
        "car.isnull().sum()"
      ],
      "metadata": {
        "colab": {
          "base_uri": "https://localhost:8080/"
        },
        "id": "PbMriGAr-kK7",
        "outputId": "943e7995-bc28-4998-ac86-f55e3295697f"
      },
      "execution_count": 13,
      "outputs": [
        {
          "output_type": "execute_result",
          "data": {
            "text/plain": [
              "Car_Name         0\n",
              "Year             0\n",
              "Selling_Price    5\n",
              "Present_Price    0\n",
              "Kms_Driven       0\n",
              "Fuel_Type        0\n",
              "Seller_Type      0\n",
              "Transmission     0\n",
              "Owner            0\n",
              "dtype: int64"
            ]
          },
          "metadata": {},
          "execution_count": 13
        }
      ]
    },
    {
      "cell_type": "code",
      "source": [
        "#imputing missing values\n",
        "from sklearn.impute import SimpleImputer\n",
        "\n",
        "impute = SimpleImputer(missing_values=np.nan, strategy='mean')\n",
        "\n",
        "impute.fit(car[['Selling_Price']])\n",
        "\n",
        "car['Selling_Price'] = impute.transform(car[['Selling_Price']])\n",
        "car.isnull().sum()\n"
      ],
      "metadata": {
        "id": "xWvKGKX1DqCJ",
        "colab": {
          "base_uri": "https://localhost:8080/"
        },
        "outputId": "28d8c796-71ff-4f8c-979c-0bde18d38446"
      },
      "execution_count": 14,
      "outputs": [
        {
          "output_type": "execute_result",
          "data": {
            "text/plain": [
              "Car_Name         0\n",
              "Year             0\n",
              "Selling_Price    0\n",
              "Present_Price    0\n",
              "Kms_Driven       0\n",
              "Fuel_Type        0\n",
              "Seller_Type      0\n",
              "Transmission     0\n",
              "Owner            0\n",
              "dtype: int64"
            ]
          },
          "metadata": {},
          "execution_count": 14
        }
      ]
    },
    {
      "cell_type": "code",
      "source": [
        "#Checking if the Imputation was correct or not\n",
        "car.head(8)"
      ],
      "metadata": {
        "colab": {
          "base_uri": "https://localhost:8080/",
          "height": 300
        },
        "id": "l7_wFW-TCoMq",
        "outputId": "3aca76f1-a284-43cc-ff74-4494e0e2963d"
      },
      "execution_count": 15,
      "outputs": [
        {
          "output_type": "execute_result",
          "data": {
            "text/plain": [
              "        Car_Name  Year  Selling_Price  Present_Price  Kms_Driven Fuel_Type  \\\n",
              "0           ritz  2014       3.350000           5.59       27000    Petrol   \n",
              "1            sx4  2013       4.750000           9.54       43000    Diesel   \n",
              "2           ciaz  2017       7.250000           9.85        6900    Petrol   \n",
              "3        wagon r  2011       2.850000           4.15        5200    Petrol   \n",
              "4          swift  2014       4.600000           6.87       42450    Diesel   \n",
              "5  vitara brezza  2018       9.250000           9.83        2071    Diesel   \n",
              "6           ciaz  2015       4.642432           8.12       18796    Petrol   \n",
              "7        s cross  2015       6.500000           8.61       33429    Diesel   \n",
              "\n",
              "  Seller_Type Transmission  Owner  \n",
              "0      Dealer       Manual      0  \n",
              "1      Dealer       Manual      0  \n",
              "2      Dealer       Manual      0  \n",
              "3      Dealer       Manual      0  \n",
              "4      Dealer       Manual      0  \n",
              "5      Dealer       Manual      0  \n",
              "6      Dealer       Manual      0  \n",
              "7      Dealer       Manual      0  "
            ],
            "text/html": [
              "\n",
              "  <div id=\"df-422ec8eb-c3d0-48e6-8b3a-097a2a84f4cb\">\n",
              "    <div class=\"colab-df-container\">\n",
              "      <div>\n",
              "<style scoped>\n",
              "    .dataframe tbody tr th:only-of-type {\n",
              "        vertical-align: middle;\n",
              "    }\n",
              "\n",
              "    .dataframe tbody tr th {\n",
              "        vertical-align: top;\n",
              "    }\n",
              "\n",
              "    .dataframe thead th {\n",
              "        text-align: right;\n",
              "    }\n",
              "</style>\n",
              "<table border=\"1\" class=\"dataframe\">\n",
              "  <thead>\n",
              "    <tr style=\"text-align: right;\">\n",
              "      <th></th>\n",
              "      <th>Car_Name</th>\n",
              "      <th>Year</th>\n",
              "      <th>Selling_Price</th>\n",
              "      <th>Present_Price</th>\n",
              "      <th>Kms_Driven</th>\n",
              "      <th>Fuel_Type</th>\n",
              "      <th>Seller_Type</th>\n",
              "      <th>Transmission</th>\n",
              "      <th>Owner</th>\n",
              "    </tr>\n",
              "  </thead>\n",
              "  <tbody>\n",
              "    <tr>\n",
              "      <th>0</th>\n",
              "      <td>ritz</td>\n",
              "      <td>2014</td>\n",
              "      <td>3.350000</td>\n",
              "      <td>5.59</td>\n",
              "      <td>27000</td>\n",
              "      <td>Petrol</td>\n",
              "      <td>Dealer</td>\n",
              "      <td>Manual</td>\n",
              "      <td>0</td>\n",
              "    </tr>\n",
              "    <tr>\n",
              "      <th>1</th>\n",
              "      <td>sx4</td>\n",
              "      <td>2013</td>\n",
              "      <td>4.750000</td>\n",
              "      <td>9.54</td>\n",
              "      <td>43000</td>\n",
              "      <td>Diesel</td>\n",
              "      <td>Dealer</td>\n",
              "      <td>Manual</td>\n",
              "      <td>0</td>\n",
              "    </tr>\n",
              "    <tr>\n",
              "      <th>2</th>\n",
              "      <td>ciaz</td>\n",
              "      <td>2017</td>\n",
              "      <td>7.250000</td>\n",
              "      <td>9.85</td>\n",
              "      <td>6900</td>\n",
              "      <td>Petrol</td>\n",
              "      <td>Dealer</td>\n",
              "      <td>Manual</td>\n",
              "      <td>0</td>\n",
              "    </tr>\n",
              "    <tr>\n",
              "      <th>3</th>\n",
              "      <td>wagon r</td>\n",
              "      <td>2011</td>\n",
              "      <td>2.850000</td>\n",
              "      <td>4.15</td>\n",
              "      <td>5200</td>\n",
              "      <td>Petrol</td>\n",
              "      <td>Dealer</td>\n",
              "      <td>Manual</td>\n",
              "      <td>0</td>\n",
              "    </tr>\n",
              "    <tr>\n",
              "      <th>4</th>\n",
              "      <td>swift</td>\n",
              "      <td>2014</td>\n",
              "      <td>4.600000</td>\n",
              "      <td>6.87</td>\n",
              "      <td>42450</td>\n",
              "      <td>Diesel</td>\n",
              "      <td>Dealer</td>\n",
              "      <td>Manual</td>\n",
              "      <td>0</td>\n",
              "    </tr>\n",
              "    <tr>\n",
              "      <th>5</th>\n",
              "      <td>vitara brezza</td>\n",
              "      <td>2018</td>\n",
              "      <td>9.250000</td>\n",
              "      <td>9.83</td>\n",
              "      <td>2071</td>\n",
              "      <td>Diesel</td>\n",
              "      <td>Dealer</td>\n",
              "      <td>Manual</td>\n",
              "      <td>0</td>\n",
              "    </tr>\n",
              "    <tr>\n",
              "      <th>6</th>\n",
              "      <td>ciaz</td>\n",
              "      <td>2015</td>\n",
              "      <td>4.642432</td>\n",
              "      <td>8.12</td>\n",
              "      <td>18796</td>\n",
              "      <td>Petrol</td>\n",
              "      <td>Dealer</td>\n",
              "      <td>Manual</td>\n",
              "      <td>0</td>\n",
              "    </tr>\n",
              "    <tr>\n",
              "      <th>7</th>\n",
              "      <td>s cross</td>\n",
              "      <td>2015</td>\n",
              "      <td>6.500000</td>\n",
              "      <td>8.61</td>\n",
              "      <td>33429</td>\n",
              "      <td>Diesel</td>\n",
              "      <td>Dealer</td>\n",
              "      <td>Manual</td>\n",
              "      <td>0</td>\n",
              "    </tr>\n",
              "  </tbody>\n",
              "</table>\n",
              "</div>\n",
              "      <button class=\"colab-df-convert\" onclick=\"convertToInteractive('df-422ec8eb-c3d0-48e6-8b3a-097a2a84f4cb')\"\n",
              "              title=\"Convert this dataframe to an interactive table.\"\n",
              "              style=\"display:none;\">\n",
              "        \n",
              "  <svg xmlns=\"http://www.w3.org/2000/svg\" height=\"24px\"viewBox=\"0 0 24 24\"\n",
              "       width=\"24px\">\n",
              "    <path d=\"M0 0h24v24H0V0z\" fill=\"none\"/>\n",
              "    <path d=\"M18.56 5.44l.94 2.06.94-2.06 2.06-.94-2.06-.94-.94-2.06-.94 2.06-2.06.94zm-11 1L8.5 8.5l.94-2.06 2.06-.94-2.06-.94L8.5 2.5l-.94 2.06-2.06.94zm10 10l.94 2.06.94-2.06 2.06-.94-2.06-.94-.94-2.06-.94 2.06-2.06.94z\"/><path d=\"M17.41 7.96l-1.37-1.37c-.4-.4-.92-.59-1.43-.59-.52 0-1.04.2-1.43.59L10.3 9.45l-7.72 7.72c-.78.78-.78 2.05 0 2.83L4 21.41c.39.39.9.59 1.41.59.51 0 1.02-.2 1.41-.59l7.78-7.78 2.81-2.81c.8-.78.8-2.07 0-2.86zM5.41 20L4 18.59l7.72-7.72 1.47 1.35L5.41 20z\"/>\n",
              "  </svg>\n",
              "      </button>\n",
              "      \n",
              "  <style>\n",
              "    .colab-df-container {\n",
              "      display:flex;\n",
              "      flex-wrap:wrap;\n",
              "      gap: 12px;\n",
              "    }\n",
              "\n",
              "    .colab-df-convert {\n",
              "      background-color: #E8F0FE;\n",
              "      border: none;\n",
              "      border-radius: 50%;\n",
              "      cursor: pointer;\n",
              "      display: none;\n",
              "      fill: #1967D2;\n",
              "      height: 32px;\n",
              "      padding: 0 0 0 0;\n",
              "      width: 32px;\n",
              "    }\n",
              "\n",
              "    .colab-df-convert:hover {\n",
              "      background-color: #E2EBFA;\n",
              "      box-shadow: 0px 1px 2px rgba(60, 64, 67, 0.3), 0px 1px 3px 1px rgba(60, 64, 67, 0.15);\n",
              "      fill: #174EA6;\n",
              "    }\n",
              "\n",
              "    [theme=dark] .colab-df-convert {\n",
              "      background-color: #3B4455;\n",
              "      fill: #D2E3FC;\n",
              "    }\n",
              "\n",
              "    [theme=dark] .colab-df-convert:hover {\n",
              "      background-color: #434B5C;\n",
              "      box-shadow: 0px 1px 3px 1px rgba(0, 0, 0, 0.15);\n",
              "      filter: drop-shadow(0px 1px 2px rgba(0, 0, 0, 0.3));\n",
              "      fill: #FFFFFF;\n",
              "    }\n",
              "  </style>\n",
              "\n",
              "      <script>\n",
              "        const buttonEl =\n",
              "          document.querySelector('#df-422ec8eb-c3d0-48e6-8b3a-097a2a84f4cb button.colab-df-convert');\n",
              "        buttonEl.style.display =\n",
              "          google.colab.kernel.accessAllowed ? 'block' : 'none';\n",
              "\n",
              "        async function convertToInteractive(key) {\n",
              "          const element = document.querySelector('#df-422ec8eb-c3d0-48e6-8b3a-097a2a84f4cb');\n",
              "          const dataTable =\n",
              "            await google.colab.kernel.invokeFunction('convertToInteractive',\n",
              "                                                     [key], {});\n",
              "          if (!dataTable) return;\n",
              "\n",
              "          const docLinkHtml = 'Like what you see? Visit the ' +\n",
              "            '<a target=\"_blank\" href=https://colab.research.google.com/notebooks/data_table.ipynb>data table notebook</a>'\n",
              "            + ' to learn more about interactive tables.';\n",
              "          element.innerHTML = '';\n",
              "          dataTable['output_type'] = 'display_data';\n",
              "          await google.colab.output.renderOutput(dataTable, element);\n",
              "          const docLink = document.createElement('div');\n",
              "          docLink.innerHTML = docLinkHtml;\n",
              "          element.appendChild(docLink);\n",
              "        }\n",
              "      </script>\n",
              "    </div>\n",
              "  </div>\n",
              "  "
            ]
          },
          "metadata": {},
          "execution_count": 15
        }
      ]
    },
    {
      "cell_type": "markdown",
      "source": [
        "***b. Feature Engineering***"
      ],
      "metadata": {
        "id": "HlxsqrLuo70T"
      }
    },
    {
      "cell_type": "code",
      "source": [
        "#Getting the info of our data for finding out the categorical data columns\n",
        "print(car.info())"
      ],
      "metadata": {
        "colab": {
          "base_uri": "https://localhost:8080/"
        },
        "id": "L70J0n06abAN",
        "outputId": "670d8200-a1bb-4ea2-d311-36a47ed9503d"
      },
      "execution_count": 16,
      "outputs": [
        {
          "output_type": "stream",
          "name": "stdout",
          "text": [
            "<class 'pandas.core.frame.DataFrame'>\n",
            "RangeIndex: 301 entries, 0 to 300\n",
            "Data columns (total 9 columns):\n",
            " #   Column         Non-Null Count  Dtype  \n",
            "---  ------         --------------  -----  \n",
            " 0   Car_Name       301 non-null    object \n",
            " 1   Year           301 non-null    int64  \n",
            " 2   Selling_Price  301 non-null    float64\n",
            " 3   Present_Price  301 non-null    float64\n",
            " 4   Kms_Driven     301 non-null    int64  \n",
            " 5   Fuel_Type      301 non-null    object \n",
            " 6   Seller_Type    301 non-null    object \n",
            " 7   Transmission   301 non-null    object \n",
            " 8   Owner          301 non-null    int64  \n",
            "dtypes: float64(2), int64(3), object(4)\n",
            "memory usage: 21.3+ KB\n",
            "None\n"
          ]
        }
      ]
    },
    {
      "cell_type": "markdown",
      "source": [
        "\n",
        "\n",
        "> i. Handling Categorical Features by Encoding\n",
        "\n",
        "\n"
      ],
      "metadata": {
        "id": "WwuReHJ6ooLE"
      }
    },
    {
      "cell_type": "code",
      "source": [
        "# encoding \"Fuel_Type\" Column\n",
        "\n",
        "car['Fuel_Type'] = car['Fuel_Type'].map({'Petrol':0,'Diesel':1,'CNG':2}) \n",
        "\n",
        "# encoding \"Seller_Type\" Column\n",
        "\n",
        "car['Seller_Type'] = car['Seller_Type'].map({'Dealer':0,'Individual':1}) \n",
        "\n",
        "# encoding \"Transmission\" Column\n",
        "\n",
        "car['Transmission'] = car['Transmission'].map({'Automatic':0,'Manual':1}) "
      ],
      "metadata": {
        "id": "Sey8Yy9naCzb"
      },
      "execution_count": 17,
      "outputs": []
    },
    {
      "cell_type": "code",
      "source": [
        "print(car.head())"
      ],
      "metadata": {
        "colab": {
          "base_uri": "https://localhost:8080/"
        },
        "id": "h0wiQ5JSxeGk",
        "outputId": "aa430f33-a700-45f6-e1e9-efbb61892fac"
      },
      "execution_count": 19,
      "outputs": [
        {
          "output_type": "stream",
          "name": "stdout",
          "text": [
            "  Car_Name  Year  Selling_Price  Present_Price  Kms_Driven  Fuel_Type  \\\n",
            "0     ritz  2014           3.35           5.59       27000          0   \n",
            "1      sx4  2013           4.75           9.54       43000          1   \n",
            "2     ciaz  2017           7.25           9.85        6900          0   \n",
            "3  wagon r  2011           2.85           4.15        5200          0   \n",
            "4    swift  2014           4.60           6.87       42450          1   \n",
            "\n",
            "   Seller_Type  Transmission  Owner  \n",
            "0            0             1      0  \n",
            "1            0             1      0  \n",
            "2            0             1      0  \n",
            "3            0             1      0  \n",
            "4            0             1      0  \n"
          ]
        }
      ]
    },
    {
      "cell_type": "code",
      "source": [
        "print(car.info())"
      ],
      "metadata": {
        "colab": {
          "base_uri": "https://localhost:8080/"
        },
        "id": "sR9F7eOMeaQK",
        "outputId": "03f0aba4-4ff3-42a9-cf83-00799d0c0304"
      },
      "execution_count": 20,
      "outputs": [
        {
          "output_type": "stream",
          "name": "stdout",
          "text": [
            "<class 'pandas.core.frame.DataFrame'>\n",
            "RangeIndex: 301 entries, 0 to 300\n",
            "Data columns (total 9 columns):\n",
            " #   Column         Non-Null Count  Dtype  \n",
            "---  ------         --------------  -----  \n",
            " 0   Car_Name       301 non-null    object \n",
            " 1   Year           301 non-null    int64  \n",
            " 2   Selling_Price  301 non-null    float64\n",
            " 3   Present_Price  301 non-null    float64\n",
            " 4   Kms_Driven     301 non-null    int64  \n",
            " 5   Fuel_Type      301 non-null    int64  \n",
            " 6   Seller_Type    301 non-null    int64  \n",
            " 7   Transmission   301 non-null    int64  \n",
            " 8   Owner          301 non-null    int64  \n",
            "dtypes: float64(2), int64(6), object(1)\n",
            "memory usage: 21.3+ KB\n",
            "None\n"
          ]
        }
      ]
    },
    {
      "cell_type": "markdown",
      "source": [
        "***c. Feature Normalization/Scaling***"
      ],
      "metadata": {
        "id": "Nt2RDxoppFXA"
      }
    },
    {
      "cell_type": "markdown",
      "source": [
        "\n",
        "\n",
        "> i. Train Test Splitting Data for creating scaled independent features\n",
        "\n"
      ],
      "metadata": {
        "id": "lB8mOkmvgm5t"
      }
    },
    {
      "cell_type": "code",
      "source": [
        "X = car.drop(['Car_Name','Selling_Price'],axis=1)\n",
        "Y = car['Selling_Price']\n",
        "from sklearn.model_selection import train_test_split\n",
        "#random data splitting\n",
        "X_train, X_test, y_train, y_test = train_test_split(X, Y, test_size = 0.25, random_state=42)"
      ],
      "metadata": {
        "id": "DjVCBOhfgTHH"
      },
      "execution_count": 21,
      "outputs": []
    },
    {
      "cell_type": "code",
      "source": [
        "from sklearn.preprocessing import MinMaxScaler\n",
        "scaler = MinMaxScaler()\n",
        "scaler.fit(X_train)\n",
        "\n",
        "# transform data\n",
        "X_train_scaled = scaler.transform(X_train)\n",
        "\n",
        "# transform test data\n",
        "X_test_scaled = scaler.transform(X_test)"
      ],
      "metadata": {
        "id": "fRz54Rc2clYn"
      },
      "execution_count": 22,
      "outputs": []
    },
    {
      "cell_type": "markdown",
      "source": [
        "***d. Feature Selection***"
      ],
      "metadata": {
        "id": "e5ob6pdmphcS"
      }
    },
    {
      "cell_type": "code",
      "source": [
        "car_corr = car.corr()\n",
        "car_corr"
      ],
      "metadata": {
        "colab": {
          "base_uri": "https://localhost:8080/",
          "height": 300
        },
        "id": "6hAXn-8WiRCH",
        "outputId": "569229eb-cbab-4a37-a6e9-f9a8c9f9e9f0"
      },
      "execution_count": 23,
      "outputs": [
        {
          "output_type": "execute_result",
          "data": {
            "text/plain": [
              "                   Year  Selling_Price  Present_Price  Kms_Driven  Fuel_Type  \\\n",
              "Year           1.000000       0.233810      -0.047584   -0.524342   0.053643   \n",
              "Selling_Price  0.233810       1.000000       0.876933    0.032315   0.509261   \n",
              "Present_Price -0.047584       0.876933       1.000000    0.203647   0.440415   \n",
              "Kms_Driven    -0.524342       0.032315       0.203647    1.000000   0.166801   \n",
              "Fuel_Type      0.053643       0.509261       0.440415    0.166801   1.000000   \n",
              "Seller_Type   -0.039896      -0.544225      -0.512030   -0.101419  -0.352415   \n",
              "Transmission   0.000394      -0.370469      -0.348715   -0.162510  -0.080466   \n",
              "Owner         -0.182104      -0.088033       0.008057    0.089216  -0.055705   \n",
              "\n",
              "               Seller_Type  Transmission     Owner  \n",
              "Year             -0.039896      0.000394 -0.182104  \n",
              "Selling_Price    -0.544225     -0.370469 -0.088033  \n",
              "Present_Price    -0.512030     -0.348715  0.008057  \n",
              "Kms_Driven       -0.101419     -0.162510  0.089216  \n",
              "Fuel_Type        -0.352415     -0.080466 -0.055705  \n",
              "Seller_Type       1.000000      0.063240  0.124269  \n",
              "Transmission      0.063240      1.000000 -0.050316  \n",
              "Owner             0.124269     -0.050316  1.000000  "
            ],
            "text/html": [
              "\n",
              "  <div id=\"df-b449b28d-d68a-4f1c-8290-7935de4d50e0\">\n",
              "    <div class=\"colab-df-container\">\n",
              "      <div>\n",
              "<style scoped>\n",
              "    .dataframe tbody tr th:only-of-type {\n",
              "        vertical-align: middle;\n",
              "    }\n",
              "\n",
              "    .dataframe tbody tr th {\n",
              "        vertical-align: top;\n",
              "    }\n",
              "\n",
              "    .dataframe thead th {\n",
              "        text-align: right;\n",
              "    }\n",
              "</style>\n",
              "<table border=\"1\" class=\"dataframe\">\n",
              "  <thead>\n",
              "    <tr style=\"text-align: right;\">\n",
              "      <th></th>\n",
              "      <th>Year</th>\n",
              "      <th>Selling_Price</th>\n",
              "      <th>Present_Price</th>\n",
              "      <th>Kms_Driven</th>\n",
              "      <th>Fuel_Type</th>\n",
              "      <th>Seller_Type</th>\n",
              "      <th>Transmission</th>\n",
              "      <th>Owner</th>\n",
              "    </tr>\n",
              "  </thead>\n",
              "  <tbody>\n",
              "    <tr>\n",
              "      <th>Year</th>\n",
              "      <td>1.000000</td>\n",
              "      <td>0.233810</td>\n",
              "      <td>-0.047584</td>\n",
              "      <td>-0.524342</td>\n",
              "      <td>0.053643</td>\n",
              "      <td>-0.039896</td>\n",
              "      <td>0.000394</td>\n",
              "      <td>-0.182104</td>\n",
              "    </tr>\n",
              "    <tr>\n",
              "      <th>Selling_Price</th>\n",
              "      <td>0.233810</td>\n",
              "      <td>1.000000</td>\n",
              "      <td>0.876933</td>\n",
              "      <td>0.032315</td>\n",
              "      <td>0.509261</td>\n",
              "      <td>-0.544225</td>\n",
              "      <td>-0.370469</td>\n",
              "      <td>-0.088033</td>\n",
              "    </tr>\n",
              "    <tr>\n",
              "      <th>Present_Price</th>\n",
              "      <td>-0.047584</td>\n",
              "      <td>0.876933</td>\n",
              "      <td>1.000000</td>\n",
              "      <td>0.203647</td>\n",
              "      <td>0.440415</td>\n",
              "      <td>-0.512030</td>\n",
              "      <td>-0.348715</td>\n",
              "      <td>0.008057</td>\n",
              "    </tr>\n",
              "    <tr>\n",
              "      <th>Kms_Driven</th>\n",
              "      <td>-0.524342</td>\n",
              "      <td>0.032315</td>\n",
              "      <td>0.203647</td>\n",
              "      <td>1.000000</td>\n",
              "      <td>0.166801</td>\n",
              "      <td>-0.101419</td>\n",
              "      <td>-0.162510</td>\n",
              "      <td>0.089216</td>\n",
              "    </tr>\n",
              "    <tr>\n",
              "      <th>Fuel_Type</th>\n",
              "      <td>0.053643</td>\n",
              "      <td>0.509261</td>\n",
              "      <td>0.440415</td>\n",
              "      <td>0.166801</td>\n",
              "      <td>1.000000</td>\n",
              "      <td>-0.352415</td>\n",
              "      <td>-0.080466</td>\n",
              "      <td>-0.055705</td>\n",
              "    </tr>\n",
              "    <tr>\n",
              "      <th>Seller_Type</th>\n",
              "      <td>-0.039896</td>\n",
              "      <td>-0.544225</td>\n",
              "      <td>-0.512030</td>\n",
              "      <td>-0.101419</td>\n",
              "      <td>-0.352415</td>\n",
              "      <td>1.000000</td>\n",
              "      <td>0.063240</td>\n",
              "      <td>0.124269</td>\n",
              "    </tr>\n",
              "    <tr>\n",
              "      <th>Transmission</th>\n",
              "      <td>0.000394</td>\n",
              "      <td>-0.370469</td>\n",
              "      <td>-0.348715</td>\n",
              "      <td>-0.162510</td>\n",
              "      <td>-0.080466</td>\n",
              "      <td>0.063240</td>\n",
              "      <td>1.000000</td>\n",
              "      <td>-0.050316</td>\n",
              "    </tr>\n",
              "    <tr>\n",
              "      <th>Owner</th>\n",
              "      <td>-0.182104</td>\n",
              "      <td>-0.088033</td>\n",
              "      <td>0.008057</td>\n",
              "      <td>0.089216</td>\n",
              "      <td>-0.055705</td>\n",
              "      <td>0.124269</td>\n",
              "      <td>-0.050316</td>\n",
              "      <td>1.000000</td>\n",
              "    </tr>\n",
              "  </tbody>\n",
              "</table>\n",
              "</div>\n",
              "      <button class=\"colab-df-convert\" onclick=\"convertToInteractive('df-b449b28d-d68a-4f1c-8290-7935de4d50e0')\"\n",
              "              title=\"Convert this dataframe to an interactive table.\"\n",
              "              style=\"display:none;\">\n",
              "        \n",
              "  <svg xmlns=\"http://www.w3.org/2000/svg\" height=\"24px\"viewBox=\"0 0 24 24\"\n",
              "       width=\"24px\">\n",
              "    <path d=\"M0 0h24v24H0V0z\" fill=\"none\"/>\n",
              "    <path d=\"M18.56 5.44l.94 2.06.94-2.06 2.06-.94-2.06-.94-.94-2.06-.94 2.06-2.06.94zm-11 1L8.5 8.5l.94-2.06 2.06-.94-2.06-.94L8.5 2.5l-.94 2.06-2.06.94zm10 10l.94 2.06.94-2.06 2.06-.94-2.06-.94-.94-2.06-.94 2.06-2.06.94z\"/><path d=\"M17.41 7.96l-1.37-1.37c-.4-.4-.92-.59-1.43-.59-.52 0-1.04.2-1.43.59L10.3 9.45l-7.72 7.72c-.78.78-.78 2.05 0 2.83L4 21.41c.39.39.9.59 1.41.59.51 0 1.02-.2 1.41-.59l7.78-7.78 2.81-2.81c.8-.78.8-2.07 0-2.86zM5.41 20L4 18.59l7.72-7.72 1.47 1.35L5.41 20z\"/>\n",
              "  </svg>\n",
              "      </button>\n",
              "      \n",
              "  <style>\n",
              "    .colab-df-container {\n",
              "      display:flex;\n",
              "      flex-wrap:wrap;\n",
              "      gap: 12px;\n",
              "    }\n",
              "\n",
              "    .colab-df-convert {\n",
              "      background-color: #E8F0FE;\n",
              "      border: none;\n",
              "      border-radius: 50%;\n",
              "      cursor: pointer;\n",
              "      display: none;\n",
              "      fill: #1967D2;\n",
              "      height: 32px;\n",
              "      padding: 0 0 0 0;\n",
              "      width: 32px;\n",
              "    }\n",
              "\n",
              "    .colab-df-convert:hover {\n",
              "      background-color: #E2EBFA;\n",
              "      box-shadow: 0px 1px 2px rgba(60, 64, 67, 0.3), 0px 1px 3px 1px rgba(60, 64, 67, 0.15);\n",
              "      fill: #174EA6;\n",
              "    }\n",
              "\n",
              "    [theme=dark] .colab-df-convert {\n",
              "      background-color: #3B4455;\n",
              "      fill: #D2E3FC;\n",
              "    }\n",
              "\n",
              "    [theme=dark] .colab-df-convert:hover {\n",
              "      background-color: #434B5C;\n",
              "      box-shadow: 0px 1px 3px 1px rgba(0, 0, 0, 0.15);\n",
              "      filter: drop-shadow(0px 1px 2px rgba(0, 0, 0, 0.3));\n",
              "      fill: #FFFFFF;\n",
              "    }\n",
              "  </style>\n",
              "\n",
              "      <script>\n",
              "        const buttonEl =\n",
              "          document.querySelector('#df-b449b28d-d68a-4f1c-8290-7935de4d50e0 button.colab-df-convert');\n",
              "        buttonEl.style.display =\n",
              "          google.colab.kernel.accessAllowed ? 'block' : 'none';\n",
              "\n",
              "        async function convertToInteractive(key) {\n",
              "          const element = document.querySelector('#df-b449b28d-d68a-4f1c-8290-7935de4d50e0');\n",
              "          const dataTable =\n",
              "            await google.colab.kernel.invokeFunction('convertToInteractive',\n",
              "                                                     [key], {});\n",
              "          if (!dataTable) return;\n",
              "\n",
              "          const docLinkHtml = 'Like what you see? Visit the ' +\n",
              "            '<a target=\"_blank\" href=https://colab.research.google.com/notebooks/data_table.ipynb>data table notebook</a>'\n",
              "            + ' to learn more about interactive tables.';\n",
              "          element.innerHTML = '';\n",
              "          dataTable['output_type'] = 'display_data';\n",
              "          await google.colab.output.renderOutput(dataTable, element);\n",
              "          const docLink = document.createElement('div');\n",
              "          docLink.innerHTML = docLinkHtml;\n",
              "          element.appendChild(docLink);\n",
              "        }\n",
              "      </script>\n",
              "    </div>\n",
              "  </div>\n",
              "  "
            ]
          },
          "metadata": {},
          "execution_count": 23
        }
      ]
    },
    {
      "cell_type": "code",
      "source": [
        "sns.heatmap(car_corr, cmap = 'YlGnBu')"
      ],
      "metadata": {
        "colab": {
          "base_uri": "https://localhost:8080/",
          "height": 343
        },
        "id": "JwYaJ2LOirXE",
        "outputId": "14dc477d-3cb4-44b7-c570-a5449179e2c8"
      },
      "execution_count": 24,
      "outputs": [
        {
          "output_type": "execute_result",
          "data": {
            "text/plain": [
              "<matplotlib.axes._subplots.AxesSubplot at 0x7f050359fc90>"
            ]
          },
          "metadata": {},
          "execution_count": 24
        },
        {
          "output_type": "display_data",
          "data": {
            "text/plain": [
              "<Figure size 432x288 with 2 Axes>"
            ],
            "image/png": "[encoded data removed]"
          },
          "metadata": {
            "needs_background": "light"
          }
        }
      ]
    },
    {
      "cell_type": "markdown",
      "source": [
        "Take a minute to find the column where the correlation value is greater than 0.75 at least twice and we don't find any columns as such from the above heatmap so no need to drop any columns. "
      ],
      "metadata": {
        "id": "Soq6c7NH5K3-"
      }
    },
    {
      "cell_type": "markdown",
      "source": [
        "***STEP-3: APPLYING THE MACHINE LEARNING MODELS*** "
      ],
      "metadata": {
        "id": "dM5eyP18aKGw"
      }
    },
    {
      "cell_type": "markdown",
      "source": [
        "**1.** **Linear Regression**"
      ],
      "metadata": {
        "id": "pSOk5nGKaWnV"
      }
    },
    {
      "cell_type": "markdown",
      "source": [
        "***a. Training the Model and Predicting***"
      ],
      "metadata": {
        "id": "-cEIubAmWsii"
      }
    },
    {
      "cell_type": "code",
      "source": [
        "from sklearn.linear_model import LinearRegression\n",
        "from sklearn import metrics"
      ],
      "metadata": {
        "id": "IdSvQmm1aZxn"
      },
      "execution_count": 22,
      "outputs": []
    },
    {
      "cell_type": "code",
      "source": [
        "# loading the linear regression model\n",
        "lin_reg_model = LinearRegression()"
      ],
      "metadata": {
        "id": "P3DT6yF7eFcU"
      },
      "execution_count": 23,
      "outputs": []
    },
    {
      "cell_type": "code",
      "source": [
        "#Fitting the model on training data\n",
        "lin_reg_model.fit(X_train_scaled,y_train)\n",
        "\n",
        "# prediction on Testing data\n",
        "test_data_prediction = lin_reg_model.predict(X_test_scaled)"
      ],
      "metadata": {
        "id": "7TyyjPsceMLI"
      },
      "execution_count": 24,
      "outputs": []
    },
    {
      "cell_type": "markdown",
      "source": [
        "***b. Checking Accuracy for Linear Regression Model***"
      ],
      "metadata": {
        "id": "0U6vFveTcPov"
      }
    },
    {
      "cell_type": "code",
      "source": [
        "# R squared Error\n",
        "error_score = metrics.r2_score(y_test, test_data_prediction)\n",
        "print(\"R squared Error : \", error_score)"
      ],
      "metadata": {
        "colab": {
          "base_uri": "https://localhost:8080/"
        },
        "id": "p63MxvXJebBD",
        "outputId": "bc765b77-da26-44a5-c3f7-e11a086eb134"
      },
      "execution_count": 25,
      "outputs": [
        {
          "output_type": "stream",
          "name": "stdout",
          "text": [
            "R squared Error :  0.8679682337553885\n"
          ]
        }
      ]
    },
    {
      "cell_type": "code",
      "source": [
        "# Mean Absolute Error\n",
        "error_score = metrics.mean_absolute_error(y_test, test_data_prediction)\n",
        "print(\"Mean Absolute Error : \", error_score)"
      ],
      "metadata": {
        "id": "A4_u2wU7NidJ",
        "colab": {
          "base_uri": "https://localhost:8080/"
        },
        "outputId": "06f63ffd-d73c-49c6-b6bf-f72ad6b132d0"
      },
      "execution_count": 26,
      "outputs": [
        {
          "output_type": "stream",
          "name": "stdout",
          "text": [
            "Mean Absolute Error :  1.253717372738026\n"
          ]
        }
      ]
    },
    {
      "cell_type": "markdown",
      "source": [
        "***c. Visualizing the Actual Selling prices and Predicted Selling prices for Linear Regression Model***"
      ],
      "metadata": {
        "id": "k37yVCbkg50z"
      }
    },
    {
      "cell_type": "code",
      "source": [
        "plt.scatter(y_test, test_data_prediction)\n",
        "z = np.polyfit(y_test, test_data_prediction, 1)\n",
        "p = np.poly1d(z)\n",
        "plt.plot(y_test,p(y_test),\"r--\")\n",
        "plt.xlabel(\"Actual Selling Price\")\n",
        "plt.ylabel(\"Predicted Selling Price\")\n",
        "plt.title(\"Actual Selling Prices vs Predicted Selling Prices\")\n",
        "plt.show()"
      ],
      "metadata": {
        "colab": {
          "base_uri": "https://localhost:8080/",
          "height": 295
        },
        "id": "x9mSYzwlg6ZC",
        "outputId": "28b02205-989c-47ef-b6f4-424155cd0ac0"
      },
      "execution_count": 27,
      "outputs": [
        {
          "output_type": "display_data",
          "data": {
            "text/plain": [
              "<Figure size 432x288 with 1 Axes>"
            ],
            "image/png": "[encoded data removed]"
          },
          "metadata": {
            "needs_background": "light"
          }
        }
      ]
    },
    {
      "cell_type": "markdown",
      "source": [
        "**2. Decision Tree Regression**"
      ],
      "metadata": {
        "id": "y7ygMccxlQL1"
      }
    },
    {
      "cell_type": "markdown",
      "source": [
        "***a. Training the Model and Predicting***"
      ],
      "metadata": {
        "id": "C2TH1S1qWZsC"
      }
    },
    {
      "cell_type": "code",
      "source": [
        "from sklearn.tree import DecisionTreeRegressor\n",
        "from sklearn import metrics"
      ],
      "metadata": {
        "id": "dlRfCPykTTJa"
      },
      "execution_count": 28,
      "outputs": []
    },
    {
      "cell_type": "code",
      "source": [
        "#Loading the Model\n",
        "dec_tree_regr = DecisionTreeRegressor()"
      ],
      "metadata": {
        "id": "5TLaJ07USi50"
      },
      "execution_count": 29,
      "outputs": []
    },
    {
      "cell_type": "code",
      "source": [
        "#Fitting the model on training data\n",
        "dec_tree_regr.fit(X_train_scaled,y_train)\n",
        "\n",
        "# prediction on Testing data\n",
        "test_data_prediction = dec_tree_regr.predict(X_test_scaled)"
      ],
      "metadata": {
        "id": "bBI-YUEATIq1"
      },
      "execution_count": 30,
      "outputs": []
    },
    {
      "cell_type": "markdown",
      "source": [
        "***b. Checking Accuracy for Decision Tree Model***"
      ],
      "metadata": {
        "id": "l2rMS9JTTvN5"
      }
    },
    {
      "cell_type": "code",
      "source": [
        "# R squared Error\n",
        "error_score = metrics.r2_score(y_test, test_data_prediction)\n",
        "print(\"R squared Error : \", error_score)"
      ],
      "metadata": {
        "colab": {
          "base_uri": "https://localhost:8080/"
        },
        "id": "Oc6Mx7QhT0M9",
        "outputId": "c8202cbe-9769-47f5-e2dc-c1fbcdedb82e"
      },
      "execution_count": 31,
      "outputs": [
        {
          "output_type": "stream",
          "name": "stdout",
          "text": [
            "R squared Error :  0.9237365969953278\n"
          ]
        }
      ]
    },
    {
      "cell_type": "code",
      "source": [
        "# Mean Absolute Error\n",
        "error_score = metrics.mean_absolute_error(y_test, test_data_prediction)\n",
        "print(\"Mean Absolute Error : \", error_score)"
      ],
      "metadata": {
        "colab": {
          "base_uri": "https://localhost:8080/"
        },
        "id": "qt8D142DRPZm",
        "outputId": "ef132820-ef4c-4f8f-e850-56c5a0a0054e"
      },
      "execution_count": 32,
      "outputs": [
        {
          "output_type": "stream",
          "name": "stdout",
          "text": [
            "Mean Absolute Error :  0.8644096728307255\n"
          ]
        }
      ]
    },
    {
      "cell_type": "markdown",
      "source": [
        "***c. Visualizing the Actual Selling prices and Predicted Selling prices for Decision Tree Model***"
      ],
      "metadata": {
        "id": "USCA9-_nMv3N"
      }
    },
    {
      "cell_type": "code",
      "source": [
        "plt.scatter(y_test, test_data_prediction)\n",
        "z = np.polyfit(y_test, test_data_prediction, 1)\n",
        "p = np.poly1d(z)\n",
        "plt.plot(y_test,p(y_test),\"r--\")\n",
        "plt.xlabel(\"Actual Selling Price\")\n",
        "plt.ylabel(\"Predicted Selling Price\")\n",
        "plt.title(\"Actual Selling Prices vs Predicted Selling Prices\")\n",
        "plt.show()"
      ],
      "metadata": {
        "colab": {
          "base_uri": "https://localhost:8080/",
          "height": 295
        },
        "id": "4ZHJoHubMyBm",
        "outputId": "5554cf1d-120a-434b-b690-19a5916e1673"
      },
      "execution_count": 33,
      "outputs": [
        {
          "output_type": "display_data",
          "data": {
            "text/plain": [
              "<Figure size 432x288 with 1 Axes>"
            ],
            "image/png": "[encoded data removed]"
          },
          "metadata": {
            "needs_background": "light"
          }
        }
      ]
    },
    {
      "cell_type": "markdown",
      "source": [
        "**3.** **Random-Forest Regression**"
      ],
      "metadata": {
        "id": "o_gqKeHMP_xa"
      }
    },
    {
      "cell_type": "markdown",
      "source": [
        "***a. Training the Model and Predicting***"
      ],
      "metadata": {
        "id": "EVZAAVMhW3-T"
      }
    },
    {
      "cell_type": "code",
      "source": [
        "from sklearn.ensemble import RandomForestRegressor\n",
        "from sklearn import metrics"
      ],
      "metadata": {
        "id": "5M5iQmutP_a-"
      },
      "execution_count": 34,
      "outputs": []
    },
    {
      "cell_type": "code",
      "source": [
        "#calling the Model\n",
        "rand_forest_regr = RandomForestRegressor()"
      ],
      "metadata": {
        "id": "657r7mp7Vr1R"
      },
      "execution_count": 35,
      "outputs": []
    },
    {
      "cell_type": "code",
      "source": [
        "#Fitting the model on training data\n",
        "rand_forest_regr.fit(X_train_scaled,y_train)\n",
        "\n",
        "# prediction on Testing data\n",
        "test_data_prediction = rand_forest_regr.predict(X_test_scaled)"
      ],
      "metadata": {
        "id": "ALpf4lrfV0yT"
      },
      "execution_count": 36,
      "outputs": []
    },
    {
      "cell_type": "markdown",
      "source": [
        "***b. Checking Accuracy for Random Forest Model***"
      ],
      "metadata": {
        "id": "i0jBo3BPWBqi"
      }
    },
    {
      "cell_type": "code",
      "source": [
        "error_score = metrics.r2_score(y_test, test_data_prediction)\n",
        "print(\"R squared Error : \", error_score)"
      ],
      "metadata": {
        "id": "nCKyysJzWBKu",
        "colab": {
          "base_uri": "https://localhost:8080/"
        },
        "outputId": "59b6b4aa-b7d6-4328-f27d-14da1e57c475"
      },
      "execution_count": 37,
      "outputs": [
        {
          "output_type": "stream",
          "name": "stdout",
          "text": [
            "R squared Error :  0.9471307784598808\n"
          ]
        }
      ]
    },
    {
      "cell_type": "code",
      "source": [
        "# Mean Absolute Error\n",
        "error_score = metrics.mean_absolute_error(y_test, test_data_prediction)\n",
        "print(\"Mean Absolute Error : \", error_score)"
      ],
      "metadata": {
        "colab": {
          "base_uri": "https://localhost:8080/"
        },
        "id": "XQRP4umHRcpF",
        "outputId": "48fd765a-6bc1-40f5-dbf0-cc823854aa90"
      },
      "execution_count": 38,
      "outputs": [
        {
          "output_type": "stream",
          "name": "stdout",
          "text": [
            "Mean Absolute Error :  0.7086238264580373\n"
          ]
        }
      ]
    },
    {
      "cell_type": "markdown",
      "source": [
        "***c. Visualizing the Actual Selling prices and Predicted Selling prices for Random Forest Model***"
      ],
      "metadata": {
        "id": "aCpFTNjfXCdr"
      }
    },
    {
      "cell_type": "code",
      "source": [
        "plt.scatter(y_test, test_data_prediction)\n",
        "z = np.polyfit(y_test, test_data_prediction, 1)\n",
        "p = np.poly1d(z)\n",
        "plt.plot(y_test,p(y_test),\"r--\")\n",
        "plt.xlabel(\"Actual Selling Price\")\n",
        "plt.ylabel(\"Predicted Selling Price\")\n",
        "plt.title(\"Actual Selling Prices vs Predicted Selling Prices\")\n",
        "plt.show()"
      ],
      "metadata": {
        "id": "zfb8z8XQQRkP",
        "colab": {
          "base_uri": "https://localhost:8080/",
          "height": 295
        },
        "outputId": "0c0ed47b-9b8d-4803-d5f3-22d4a24489b2"
      },
      "execution_count": 39,
      "outputs": [
        {
          "output_type": "display_data",
          "data": {
            "text/plain": [
              "<Figure size 432x288 with 1 Axes>"
            ],
            "image/png": "[encoded data removed]"
          },
          "metadata": {
            "needs_background": "light"
          }
        }
      ]
    },
    {
      "cell_type": "markdown",
      "source": [
        "**4.** **Gradient Boosting Regression**"
      ],
      "metadata": {
        "id": "eeqjU35FTI1z"
      }
    },
    {
      "cell_type": "markdown",
      "source": [
        "***a. Training the Model and Predicting***"
      ],
      "metadata": {
        "id": "rP-mGitJTTqR"
      }
    },
    {
      "cell_type": "code",
      "source": [
        "from sklearn.ensemble import GradientBoostingRegressor\n",
        "from sklearn import metrics"
      ],
      "metadata": {
        "id": "Sb3FDAx2TTqS"
      },
      "execution_count": 40,
      "outputs": []
    },
    {
      "cell_type": "code",
      "source": [
        "#calling the Model\n",
        "grad_boost_regr = GradientBoostingRegressor(random_state=0)"
      ],
      "metadata": {
        "id": "_8cGk4G6TTqS"
      },
      "execution_count": 41,
      "outputs": []
    },
    {
      "cell_type": "code",
      "source": [
        "#Fitting the model on training data\n",
        "grad_boost_regr.fit(X_train_scaled,y_train)\n",
        "\n",
        "# prediction on Testing data\n",
        "test_data_prediction = grad_boost_regr.predict(X_test_scaled)"
      ],
      "metadata": {
        "id": "2j4R-EUvTTqT"
      },
      "execution_count": 42,
      "outputs": []
    },
    {
      "cell_type": "markdown",
      "source": [
        "***b. Checking Accuracy for Gradient Boosting Model***"
      ],
      "metadata": {
        "id": "ngQiZ3AeTTqT"
      }
    },
    {
      "cell_type": "code",
      "source": [
        "error_score = metrics.r2_score(y_test, test_data_prediction)\n",
        "print(\"R squared Error : \", error_score)"
      ],
      "metadata": {
        "colab": {
          "base_uri": "https://localhost:8080/"
        },
        "outputId": "1fbc542c-17f1-426d-a9ac-768875365030",
        "id": "b53qWcbjTTqT"
      },
      "execution_count": 43,
      "outputs": [
        {
          "output_type": "stream",
          "name": "stdout",
          "text": [
            "R squared Error :  0.9514885047663275\n"
          ]
        }
      ]
    },
    {
      "cell_type": "code",
      "source": [
        "# Mean Absolute Error\n",
        "error_score = metrics.mean_absolute_error(y_test, test_data_prediction)\n",
        "print(\"Mean Absolute Error : \", error_score)"
      ],
      "metadata": {
        "colab": {
          "base_uri": "https://localhost:8080/"
        },
        "outputId": "f3f83b9c-c735-4fe6-de01-0a75d0c0e1b0",
        "id": "CJjhOf8gTTqU"
      },
      "execution_count": 44,
      "outputs": [
        {
          "output_type": "stream",
          "name": "stdout",
          "text": [
            "Mean Absolute Error :  0.6543698605346198\n"
          ]
        }
      ]
    },
    {
      "cell_type": "markdown",
      "source": [
        "***c. Visualizing the Actual Selling prices and Predicted Selling prices for Gradient Boosting Model***"
      ],
      "metadata": {
        "id": "BxoSlue9TTqU"
      }
    },
    {
      "cell_type": "code",
      "source": [
        "plt.scatter(y_test, test_data_prediction)\n",
        "z = np.polyfit(y_test, test_data_prediction, 1)\n",
        "p = np.poly1d(z)\n",
        "plt.plot(y_test,p(y_test),\"r--\")\n",
        "plt.xlabel(\"Actual Selling Price\")\n",
        "plt.ylabel(\"Predicted Selling Price\")\n",
        "plt.title(\"Actual Selling Prices vs Predicted Selling Prices\")\n",
        "plt.show()"
      ],
      "metadata": {
        "colab": {
          "base_uri": "https://localhost:8080/",
          "height": 295
        },
        "outputId": "451b2030-4717-4663-866b-f1b7088b5f74",
        "id": "rpKgoHamTTqV"
      },
      "execution_count": 45,
      "outputs": [
        {
          "output_type": "display_data",
          "data": {
            "text/plain": [
              "<Figure size 432x288 with 1 Axes>"
            ],
            "image/png": "[encoded data removed]"
          },
          "metadata": {
            "needs_background": "light"
          }
        }
      ]
    }
  ]
}